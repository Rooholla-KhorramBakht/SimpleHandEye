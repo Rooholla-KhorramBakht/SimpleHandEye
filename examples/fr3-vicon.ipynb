{
 "cells": [
  {
   "cell_type": "markdown",
   "metadata": {},
   "source": [
    "# AX=YB\n",
    "This notebook shows the process of calibrating the extrinsic parameters between the Vicon marker coordinate frame installed on the end-effector of a robot with respect to the end-effector frame."
   ]
  },
  {
   "cell_type": "markdown",
   "metadata": {},
   "source": [
    "### Vicon Sensor"
   ]
  },
  {
   "cell_type": "code",
   "execution_count": 1,
   "metadata": {},
   "outputs": [],
   "source": [
    "from SimpleHandEye.interfaces.ros2 import ROS2ExecutorManager, ROS2CameraReader, ROS2TFInterface\n",
    "import rclpy\n",
    "rclpy.init()    \n",
    "executor_manager = ROS2ExecutorManager()\n",
    "vicon_sensor = ROS2TFInterface('vicon/World', 'vicon/WHITE_FR3_EF/WHITE_FR3_EF', node_name='vicon_sensor_node')\n",
    "executor_manager.add_node(vicon_sensor)\n",
    "executor_manager.start()"
   ]
  },
  {
   "cell_type": "code",
   "execution_count": 2,
   "metadata": {},
   "outputs": [
    {
     "data": {
      "text/plain": [
       "array([[ 0.8237402 , -0.04721833, -0.5649978 , -1.96782698],\n",
       "       [-0.15238737, -0.97829532, -0.14041494,  0.2420608 ],\n",
       "       [-0.54610454,  0.20176396, -0.81305666,  1.44821424],\n",
       "       [ 0.        ,  0.        ,  0.        ,  1.        ]])"
      ]
     },
     "execution_count": 2,
     "metadata": {},
     "output_type": "execute_result"
    }
   ],
   "source": [
    "vicon_sensor.get_pose()"
   ]
  },
  {
   "cell_type": "markdown",
   "metadata": {},
   "source": [
    "### FR3 Forward Kinematic"
   ]
  },
  {
   "cell_type": "code",
   "execution_count": 3,
   "metadata": {},
   "outputs": [
    {
     "name": "stdout",
     "output_type": "stream",
     "text": [
      "Interface Running...\n"
     ]
    }
   ],
   "source": [
    " \n",
    "from FR3Py.robot.interface import FR3Real\n",
    "robot = FR3Real(robot_id='fr3')"
   ]
  },
  {
   "cell_type": "code",
   "execution_count": 4,
   "metadata": {},
   "outputs": [],
   "source": [
    "from FR3Py.robot.model import PinocchioModel\n",
    "model = PinocchioModel()"
   ]
  },
  {
   "cell_type": "code",
   "execution_count": 6,
   "metadata": {},
   "outputs": [
    {
     "data": {
      "text/plain": [
       "array([[ 9.99995667e-01,  2.53175935e-03, -1.50182585e-03,\n",
       "         3.06750390e-01],\n",
       "       [ 2.52655967e-03, -9.99990843e-01, -3.45409351e-03,\n",
       "         7.10068705e-04],\n",
       "       [-1.51055703e-03,  3.45028409e-03, -9.99992907e-01,\n",
       "         4.86721704e-01],\n",
       "       [ 0.00000000e+00,  0.00000000e+00,  0.00000000e+00,\n",
       "         1.00000000e+00]])"
      ]
     },
     "execution_count": 6,
     "metadata": {},
     "output_type": "execute_result"
    }
   ],
   "source": [
    "import numpy as np\n",
    "def getFK(robot, model):\n",
    "    state = robot.getJointStates()\n",
    "    q , dq = state['q'], state['dq']\n",
    "    info = model.getInfo(q, dq)\n",
    "    R_ee = info['R_EE']\n",
    "    t_ee = info['P_EE']\n",
    "    T = np.hstack([R_ee, t_ee.reshape(3,1)])\n",
    "    T = np.vstack([T, np.array([0, 0, 0, 1])])\n",
    "    return T\n",
    "\n",
    "getFK(robot, model)\n"
   ]
  },
  {
   "cell_type": "markdown",
   "metadata": {},
   "source": [
    "## Instantiate the Solver"
   ]
  },
  {
   "cell_type": "code",
   "execution_count": 7,
   "metadata": {},
   "outputs": [],
   "source": [
    "from SimpleHandEye.solvers import OpenCVSolver\n",
    "solver = OpenCVSolver()"
   ]
  },
  {
   "cell_type": "markdown",
   "metadata": {},
   "source": [
    "## Collect The Calibration Dataset"
   ]
  },
  {
   "cell_type": "code",
   "execution_count": 8,
   "metadata": {},
   "outputs": [
    {
     "name": "stdout",
     "output_type": "stream",
     "text": [
      "X=\n",
      "array([[ 0.813, -0.079, -0.577,  0.016],\n",
      "       [ 0.187,  0.974,  0.131, -0.002],\n",
      "       [ 0.551, -0.214,  0.807, -0.059],\n",
      "       [ 0.   ,  0.   ,  0.   ,  1.   ]])\n",
      "Y=\n",
      "array([[ 0.999,  0.032,  0.002,  2.279],\n",
      "       [-0.032,  0.999,  0.018, -0.326],\n",
      "       [-0.002, -0.018,  1.   , -0.901],\n",
      "       [ 0.   ,  0.   ,  0.   ,  1.   ]])\n"
     ]
    }
   ],
   "source": [
    "import ipywidgets as widgets\n",
    "import numpy as np\n",
    "from IPython.display import display\n",
    "from pprint import pprint\n",
    "from IPython.display import clear_output\n",
    "np.set_printoptions(suppress=True, precision=3)\n",
    "\n",
    "# The dataset\n",
    "A_list = []\n",
    "B_list = []\n",
    "def on_sample_clicked(b):\n",
    "    A = getFK(robot, model)\n",
    "    B = vicon_sensor.get_pose()\n",
    "    print(\"A=\")\n",
    "    pprint(A)\n",
    "    print(\"B=\")\n",
    "    pprint(B)\n",
    "    A_list.append(A)\n",
    "    B_list.append(B)\n",
    "    print(\"*************\")\n",
    "\n",
    "def on_compute_clicked(b):\n",
    "    try:\n",
    "        X,Y = solver.solve(A_list, B_list)\n",
    "        clear_output(wait=True)\n",
    "        print(\"X=\")\n",
    "        pprint(X)\n",
    "        print(\"Y=\")\n",
    "        pprint(Y)\n",
    "    except:\n",
    "        print(\"Bad dataset, please record again\")\n",
    "        A_list.clear()\n",
    "        B_list.clear()\n",
    "        \n",
    "\n",
    "sample_button = widgets.Button(description=\"Sample\")\n",
    "compute_button = widgets.Button(description=\"Compute\")\n",
    "\n",
    "sample_button.on_click(on_sample_clicked)\n",
    "compute_button.on_click(on_compute_clicked)\n",
    "display(sample_button)\n",
    "display(compute_button)"
   ]
  },
  {
   "cell_type": "code",
   "execution_count": 9,
   "metadata": {},
   "outputs": [],
   "source": [
    "X, Y = solver.solve(A_list, B_list)"
   ]
  },
  {
   "cell_type": "code",
   "execution_count": 10,
   "metadata": {},
   "outputs": [],
   "source": [
    "ef_T_marker = X\n",
    "Base_T_viconW = Y"
   ]
  },
  {
   "cell_type": "code",
   "execution_count": 11,
   "metadata": {},
   "outputs": [
    {
     "name": "stdout",
     "output_type": "stream",
     "text": [
      "[-0.005  0.001  0.002]\n",
      "[-0.004 -0.002  0.002]\n",
      "[0.003 0.005 0.002]\n",
      "[ 0.003  0.004 -0.004]\n",
      "[ 0.003 -0.001 -0.002]\n",
      "[ 0.003 -0.001 -0.002]\n",
      "[-0.002 -0.    -0.001]\n",
      "[-0.003 -0.001 -0.   ]\n",
      "[ 0.001 -0.001 -0.002]\n",
      "[-0.    -0.004 -0.001]\n"
     ]
    }
   ],
   "source": [
    "for i in range(len(A_list)):\n",
    "    print((A_list[i]@X@np.linalg.inv(Y@B_list[i]))[:3,-1])"
   ]
  },
  {
   "cell_type": "code",
   "execution_count": 11,
   "metadata": {},
   "outputs": [],
   "source": [
    "import pickle\n",
    "# camera_name = 'side_left_cam'\n",
    "dataset_name = f'fr3-vicon-dataset.pkl'\n",
    "with open(dataset_name, 'wb') as f:\n",
    "    data = {\n",
    "        'A_list': A_list,\n",
    "        'B_list': B_list,\n",
    "        'X': X,\n",
    "        'Y': Y,\n",
    "        'ef_T_marker':ef_T_marker,\n",
    "        'Base_T_viconW':Base_T_viconW\n",
    "    }\n",
    "    pickle.dump(data, f)"
   ]
  }
 ],
 "metadata": {
  "kernelspec": {
   "display_name": "Python 3",
   "language": "python",
   "name": "python3"
  },
  "language_info": {
   "codemirror_mode": {
    "name": "ipython",
    "version": 3
   },
   "file_extension": ".py",
   "mimetype": "text/x-python",
   "name": "python",
   "nbconvert_exporter": "python",
   "pygments_lexer": "ipython3",
   "version": "3.8.18"
  }
 },
 "nbformat": 4,
 "nbformat_minor": 2
}
