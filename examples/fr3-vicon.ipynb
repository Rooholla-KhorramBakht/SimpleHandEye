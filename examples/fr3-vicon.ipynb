{
 "cells": [
  {
   "cell_type": "markdown",
   "metadata": {},
   "source": [
    "# Calibration From Scratch\n",
    "This notebook shows the process of calibrating the extrinsic parameters between the Vicon marker coordinate frame installed on the end-effector of a robot with respect to the end-effector frame."
   ]
  },
  {
   "cell_type": "markdown",
   "metadata": {},
   "source": [
    "### Vicon Sensor"
   ]
  },
  {
   "cell_type": "code",
   "execution_count": null,
   "metadata": {},
   "outputs": [],
   "source": [
    "from SimpleHandEye.interfaces.ros2 import ROS2ExecutorManager, ROS2CameraReader, ROS2TFInterface\n",
    "import rclpy\n",
    "rclpy.init()    \n",
    "executor_manager = ROS2ExecutorManager()\n",
    "vicon_sensor = ROS2TFInterface('vicon/World', 'vicon/WHITE_FR3_EF/WHITE_FR3_EF', node_name='vicon_sensor_node')\n",
    "executor_manager.add_node(vicon_sensor)\n",
    "executor_manager.start()"
   ]
  },
  {
   "cell_type": "code",
   "execution_count": null,
   "metadata": {},
   "outputs": [],
   "source": [
    "world_T_marker = vicon_sensor.get_pose()\n",
    "world_T_marker"
   ]
  },
  {
   "cell_type": "markdown",
   "metadata": {},
   "source": [
    "### FR3 Forward Kinematic"
   ]
  },
  {
   "cell_type": "code",
   "execution_count": null,
   "metadata": {},
   "outputs": [],
   "source": [
    " \n",
    "from FR3Py.robot.interface import FR3Real\n",
    "robot = FR3Real(robot_id='fr3')"
   ]
  },
  {
   "cell_type": "code",
   "execution_count": null,
   "metadata": {},
   "outputs": [],
   "source": [
    "from FR3Py.robot.model import PinocchioModel\n",
    "model = PinocchioModel()"
   ]
  },
  {
   "cell_type": "code",
   "execution_count": null,
   "metadata": {},
   "outputs": [],
   "source": [
    "import numpy as np\n",
    "def getFK(robot, model):\n",
    "    state = robot.getJointStates()\n",
    "    q , dq = state['q'], state['dq']\n",
    "    info = model.getInfo(q, dq)\n",
    "    R_ee = info['R_EE']\n",
    "    t_ee = info['P_EE']\n",
    "    T = np.hstack([R_ee, t_ee.reshape(3,1)])\n",
    "    T = np.vstack([T, np.array([0, 0, 0, 1])])\n",
    "    return T\n",
    "\n",
    "base_T_ef= getFK(robot, model)\n",
    "base_T_ef"
   ]
  },
  {
   "cell_type": "markdown",
   "metadata": {},
   "source": [
    "## Instantiate the Solver"
   ]
  },
  {
   "cell_type": "code",
   "execution_count": null,
   "metadata": {},
   "outputs": [],
   "source": [
    "from SimpleHandEye.solvers import OpenCVSolver\n",
    "solver = OpenCVSolver()"
   ]
  },
  {
   "cell_type": "markdown",
   "metadata": {},
   "source": [
    "## Collect The Calibration Dataset"
   ]
  },
  {
   "cell_type": "code",
   "execution_count": null,
   "metadata": {},
   "outputs": [],
   "source": [
    "import ipywidgets as widgets\n",
    "import numpy as np\n",
    "from IPython.display import display\n",
    "from pprint import pprint\n",
    "from IPython.display import clear_output\n",
    "np.set_printoptions(suppress=True, precision=3)\n",
    "\n",
    "# The dataset\n",
    "A_list = []\n",
    "B_list = []\n",
    "def on_sample_clicked(b):\n",
    "    A = getFK(robot, model)\n",
    "    B = vicon_sensor.get_pose()\n",
    "    print(\"A=\")\n",
    "    pprint(A)\n",
    "    print(\"B=\")\n",
    "    pprint(B)\n",
    "    A_list.append(A)\n",
    "    B_list.append(B)\n",
    "    print(\"*************\")\n",
    "\n",
    "def on_compute_clicked(b):\n",
    "    try:\n",
    "        X,Y = solver.solve(A_list, B_list)\n",
    "        clear_output(wait=True)\n",
    "        print(\"X=\")\n",
    "        pprint(X)\n",
    "        print(\"Y=\")\n",
    "        pprint(Y)\n",
    "    except:\n",
    "        print(\"Bad dataset, please record again\")\n",
    "        A_list.clear()\n",
    "        B_list.clear()\n",
    "        \n",
    "\n",
    "sample_button = widgets.Button(description=\"Sample\")\n",
    "compute_button = widgets.Button(description=\"Compute\")\n",
    "\n",
    "sample_button.on_click(on_sample_clicked)\n",
    "compute_button.on_click(on_compute_clicked)\n",
    "display(sample_button)\n",
    "display(compute_button)"
   ]
  },
  {
   "cell_type": "code",
   "execution_count": null,
   "metadata": {},
   "outputs": [],
   "source": [
    "X, Y = solver.solve(A_list, B_list)"
   ]
  },
  {
   "cell_type": "code",
   "execution_count": null,
   "metadata": {},
   "outputs": [],
   "source": [
    "ef_T_marker = X\n",
    "Base_T_viconW = Y"
   ]
  },
  {
   "cell_type": "code",
   "execution_count": null,
   "metadata": {},
   "outputs": [],
   "source": [
    "for i in range(len(A_list)):\n",
    "    print((A_list[i]@X@np.linalg.inv(Y@B_list[i]))[:3,-1])"
   ]
  },
  {
   "cell_type": "code",
   "execution_count": null,
   "metadata": {},
   "outputs": [],
   "source": [
    "import pickle\n",
    "# camera_name = 'side_left_cam'\n",
    "dataset_name = f'fr3-vicon-dataset.pkl'\n",
    "with open(dataset_name, 'wb') as f:\n",
    "    data = {\n",
    "        'A_list': A_list,\n",
    "        'B_list': B_list,\n",
    "        'X': X,\n",
    "        'Y': Y,\n",
    "        'ef_T_marker':ef_T_marker,\n",
    "        'Base_T_viconW':Base_T_viconW\n",
    "    }\n",
    "    pickle.dump(data, f)"
   ]
  },
  {
   "cell_type": "markdown",
   "metadata": {},
   "source": [
    "# Get base_T_world From Previously Estimated ef_T_marker"
   ]
  },
  {
   "cell_type": "code",
   "execution_count": null,
   "metadata": {},
   "outputs": [],
   "source": [
    "import pickle\n",
    "with open(f'fr3-vicon-dataset.pkl', 'rb') as f:\n",
    "    data = pickle.load(f)\n",
    "    A_list = data['A_list']\n",
    "    B_list = data['B_list']\n",
    "    X = data['X']\n",
    "    Y = data['Y']\n",
    "    ef_T_marker = data['ef_T_marker']\n",
    "    Base_T_viconW = data['Base_T_viconW']\n",
    "\n"
   ]
  },
  {
   "cell_type": "code",
   "execution_count": null,
   "metadata": {},
   "outputs": [],
   "source": [
    "from SimpleHandEye.interfaces.ros2 import ROS2ExecutorManager, ROS2CameraReader, ROS2TFInterface\n",
    "import rclpy\n",
    "rclpy.init()    \n",
    "executor_manager = ROS2ExecutorManager()\n",
    "vicon_sensor = ROS2TFInterface('vicon/World', 'vicon/WHITE_FR3_EF/WHITE_FR3_EF', node_name='vicon_sensor_node')\n",
    "executor_manager.add_node(vicon_sensor)\n",
    "executor_manager.start()"
   ]
  },
  {
   "cell_type": "code",
   "execution_count": null,
   "metadata": {},
   "outputs": [],
   "source": [
    "world_T_marker = vicon_sensor.get_pose()\n",
    "world_T_marker"
   ]
  },
  {
   "cell_type": "code",
   "execution_count": null,
   "metadata": {},
   "outputs": [],
   "source": [
    " \n",
    "from FR3Py.robot.interface import FR3Real\n",
    "robot = FR3Real(robot_id='fr3')"
   ]
  },
  {
   "cell_type": "code",
   "execution_count": null,
   "metadata": {},
   "outputs": [],
   "source": [
    "from FR3Py.robot.model import PinocchioModel\n",
    "model = PinocchioModel()"
   ]
  },
  {
   "cell_type": "code",
   "execution_count": null,
   "metadata": {},
   "outputs": [],
   "source": [
    "import numpy as np\n",
    "def getFK(robot, model):\n",
    "    state = robot.getJointStates()\n",
    "    q , dq = state['q'], state['dq']\n",
    "    info = model.getInfo(q, dq)\n",
    "    R_ee = info['R_EE']\n",
    "    t_ee = info['P_EE']\n",
    "    T = np.hstack([R_ee, t_ee.reshape(3,1)])\n",
    "    T = np.vstack([T, np.array([0, 0, 0, 1])])\n",
    "    return T\n",
    "\n",
    "base_T_ef= getFK(robot, model)\n",
    "base_T_ef"
   ]
  },
  {
   "cell_type": "code",
   "execution_count": null,
   "metadata": {},
   "outputs": [],
   "source": [
    "base_T_world = base_T_ef @ ef_T_marker @ np.linalg.inv(world_T_marker)\n",
    "T = base_T_world @ vicon_sensor.get_pose()"
   ]
  },
  {
   "cell_type": "code",
   "execution_count": null,
   "metadata": {},
   "outputs": [],
   "source": [
    "with open('base_T_world.pkl', 'wb') as f:\n",
    "    pickle.dump(base_T_world, f)"
   ]
  },
  {
   "cell_type": "code",
   "execution_count": null,
   "metadata": {},
   "outputs": [],
   "source": [
    "from FR3ViconVisualizer.fr3_mj_env_collision_flying_ball import FR3MuJocoEnv\n",
    "import numpy as np"
   ]
  },
  {
   "cell_type": "code",
   "execution_count": null,
   "metadata": {},
   "outputs": [],
   "source": [
    "env = FR3MuJocoEnv()\n",
    "env.reset()"
   ]
  },
  {
   "cell_type": "code",
   "execution_count": null,
   "metadata": {},
   "outputs": [],
   "source": [
    "import time \n",
    "for i in range(100000):\n",
    "    time.sleep(0.01)\n",
    "    T = base_T_world @ vicon_sensor.get_pose()\n",
    "    env.visualize_object(robot.getJointStates()['q'], T)"
   ]
  }
 ],
 "metadata": {
  "kernelspec": {
   "display_name": "Python 3",
   "language": "python",
   "name": "python3"
  },
  "language_info": {
   "codemirror_mode": {
    "name": "ipython",
    "version": 3
   },
   "file_extension": ".py",
   "mimetype": "text/x-python",
   "name": "python",
   "nbconvert_exporter": "python",
   "pygments_lexer": "ipython3",
   "version": "3.8.18"
  }
 },
 "nbformat": 4,
 "nbformat_minor": 2
}
