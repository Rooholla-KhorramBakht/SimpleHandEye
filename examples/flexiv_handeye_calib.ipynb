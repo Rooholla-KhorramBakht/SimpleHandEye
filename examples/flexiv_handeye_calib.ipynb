{
 "cells": [
  {
   "cell_type": "markdown",
   "metadata": {},
   "source": [
    "# Eye On Hand"
   ]
  },
  {
   "cell_type": "code",
   "execution_count": 3,
   "metadata": {},
   "outputs": [
    {
     "data": {
      "text/plain": [
       "dict_keys(['imgs', 'params', 'robot_poses'])"
      ]
     },
     "execution_count": 3,
     "metadata": {},
     "output_type": "execute_result"
    }
   ],
   "source": [
    "import pickle\n",
    "data_path = 'dataset/flexiv/ef_camera.pkl'\n",
    "with open(data_path, 'rb') as f:\n",
    "    data = pickle.load(f)\n",
    "data.keys()"
   ]
  },
  {
   "cell_type": "code",
   "execution_count": 11,
   "metadata": {},
   "outputs": [
    {
     "data": {
      "text/plain": [
       "(720, 1280, 3)"
      ]
     },
     "execution_count": 11,
     "metadata": {},
     "output_type": "execute_result"
    }
   ],
   "source": [
    "data['imgs'][0].shape"
   ]
  },
  {
   "cell_type": "code",
   "execution_count": 7,
   "metadata": {},
   "outputs": [],
   "source": [
    "import numpy as np\n",
    "K=data['params']['RGB']['K']\n",
    "D = data['params']['RGB']['D']"
   ]
  },
  {
   "cell_type": "code",
   "execution_count": 8,
   "metadata": {},
   "outputs": [],
   "source": [
    "from SimpleHandEye.interfaces.apriltag import ApriltagTracker\n",
    "tracker = ApriltagTracker(tag_size=0.153,\n",
    "                          intrinsic_matrix=K,\n",
    "                          distortion_coeffs=D)"
   ]
  },
  {
   "cell_type": "code",
   "execution_count": 12,
   "metadata": {},
   "outputs": [],
   "source": [
    "import cv2\n",
    "image_poses=[]\n",
    "robot_poses=[]\n",
    "for i,img in enumerate(data['imgs']):\n",
    "    robot_pose = data['robot_poses'][i]\n",
    "    # cv2.imwrite(f'flexiv_dataset/{i}.png', item[1])\n",
    "    image_pose = tracker.getPose(img, tag_id=0)\n",
    "    if image_pose is not None:\n",
    "        image_poses.append(image_pose)\n",
    "        robot_poses.append(robot_pose)\n",
    "    "
   ]
  },
  {
   "cell_type": "code",
   "execution_count": 13,
   "metadata": {},
   "outputs": [],
   "source": [
    "from SimpleHandEye.solvers import OpenCVSolver"
   ]
  },
  {
   "cell_type": "code",
   "execution_count": 14,
   "metadata": {},
   "outputs": [],
   "source": [
    "solver = OpenCVSolver()"
   ]
  },
  {
   "cell_type": "code",
   "execution_count": 15,
   "metadata": {},
   "outputs": [],
   "source": [
    "A = robot_poses # Pose of the hand with respect to the base\n",
    "B = [np.linalg.inv(T) for T in image_poses]\n",
    "\n",
    "X, Y = solver.solve(A, B)"
   ]
  },
  {
   "cell_type": "code",
   "execution_count": 16,
   "metadata": {},
   "outputs": [
    {
     "data": {
      "text/plain": [
       "(array([[-0.01147745, -0.99985254,  0.01277383,  0.08960414],\n",
       "        [ 0.99987984, -0.011609  , -0.01027274, -0.03007833],\n",
       "        [ 0.01041951,  0.01265439,  0.99986564,  0.07234493],\n",
       "        [ 0.        ,  0.        ,  0.        ,  1.        ]]),\n",
       " array([[-0.00815669, -0.99991112,  0.01054607,  0.51429557],\n",
       "        [-0.99996512,  0.00817519,  0.00171209,  0.01612239],\n",
       "        [-0.00179815, -0.01053174, -0.99994292,  0.00126261],\n",
       "        [ 0.        ,  0.        ,  0.        ,  1.        ]]))"
      ]
     },
     "execution_count": 16,
     "metadata": {},
     "output_type": "execute_result"
    }
   ],
   "source": [
    "X, Y"
   ]
  },
  {
   "cell_type": "code",
   "execution_count": 17,
   "metadata": {},
   "outputs": [],
   "source": [
    "hand_T_cam = X"
   ]
  },
  {
   "cell_type": "code",
   "execution_count": 19,
   "metadata": {},
   "outputs": [
    {
     "name": "stdout",
     "output_type": "stream",
     "text": [
      "0.004900929989746712\n",
      "0.004798079676462854\n",
      "0.008547323071457598\n",
      "0.008468821461449514\n",
      "0.0012283538460332601\n",
      "0.0012124624274551178\n",
      "0.0011141172106898711\n",
      "0.01208803206146044\n",
      "0.012132634475683596\n",
      "0.005611235666339801\n",
      "0.0050853487287546555\n",
      "0.0118936940573681\n",
      "0.001082146663574132\n",
      "0.001119671205077208\n",
      "0.001729989510170798\n",
      "0.001867635796229327\n",
      "0.0023647844419426543\n",
      "0.0023522394488654373\n",
      "0.014175208183969341\n",
      "0.014109646045081258\n",
      "0.010118952483144043\n",
      "0.009761801963849308\n",
      "0.004320886880907761\n",
      "0.004260022201976727\n",
      "0.017033282416446145\n",
      "0.0169113737122366\n",
      "0.016879889451858976\n",
      "0.003435284846413428\n",
      "0.0033898788219963788\n",
      "0.002827861447239284\n",
      "0.002932142305817547\n",
      "0.002100743826801098\n",
      "0.00182355654675731\n",
      "0.0020347145501043175\n",
      "0.0018823163327218602\n",
      "0.002744057012963093\n",
      "0.002766640954489436\n",
      "0.004036089767568295\n",
      "0.004169906477893781\n"
     ]
    }
   ],
   "source": [
    "for i in range(len(A)):\n",
    "    print(np.linalg.norm((A[i]@X@np.linalg.inv(Y@B[i]))[:3,-1]))"
   ]
  },
  {
   "cell_type": "code",
   "execution_count": 20,
   "metadata": {},
   "outputs": [],
   "source": [
    "output_path = data_path.split('.')[0]+'_result.pkl'\n",
    "with open(output_path, 'wb') as f:\n",
    "    pickle.dump(hand_T_cam, f)"
   ]
  },
  {
   "cell_type": "markdown",
   "metadata": {},
   "source": [
    "# Eye on Base"
   ]
  },
  {
   "cell_type": "code",
   "execution_count": 21,
   "metadata": {},
   "outputs": [
    {
     "data": {
      "text/plain": [
       "dict_keys(['imgs', 'params', 'robot_poses'])"
      ]
     },
     "execution_count": 21,
     "metadata": {},
     "output_type": "execute_result"
    }
   ],
   "source": [
    "import pickle\n",
    "data_path = 'dataset/flexiv/left_camera.pkl'\n",
    "with open(data_path, 'rb') as f:\n",
    "    data = pickle.load(f)\n",
    "data.keys()"
   ]
  },
  {
   "cell_type": "code",
   "execution_count": 30,
   "metadata": {},
   "outputs": [],
   "source": [
    "import numpy as np\n",
    "K=data['params']['RGB']['K']\n",
    "D = data['params']['RGB']['D']\n",
    "tag_id = 1\n",
    "tag_size = 0.153"
   ]
  },
  {
   "cell_type": "code",
   "execution_count": 23,
   "metadata": {},
   "outputs": [],
   "source": [
    "from SimpleHandEye.interfaces.apriltag import ApriltagTracker\n",
    "tracker = ApriltagTracker(tag_size=tag_size,\n",
    "                          intrinsic_matrix=K,\n",
    "                          distortion_coeffs=D)"
   ]
  },
  {
   "cell_type": "code",
   "execution_count": 29,
   "metadata": {},
   "outputs": [
    {
     "name": "stdout",
     "output_type": "stream",
     "text": [
      "0\n",
      "1\n",
      "2\n",
      "3\n",
      "4\n",
      "5\n",
      "6\n",
      "7\n",
      "8\n",
      "9\n",
      "10\n",
      "11\n",
      "12\n",
      "13\n",
      "14\n",
      "15\n",
      "16\n",
      "17\n",
      "18\n",
      "19\n",
      "20\n",
      "21\n",
      "22\n",
      "23\n"
     ]
    }
   ],
   "source": [
    "import cv2\n",
    "image_poses=[]\n",
    "robot_poses=[]\n",
    "for i,img in enumerate(data['imgs']):\n",
    "    robot_pose = data['robot_poses'][i]\n",
    "    # cv2.imwrite(f'flexiv_dataset/{i}.png', item[1])\n",
    "    image_pose = tracker.getPose(img, tag_id=tag_id)\n",
    "    if image_pose is not None:\n",
    "        print(i)\n",
    "        image_poses.append(image_pose)\n",
    "        robot_poses.append(robot_pose)\n",
    "    "
   ]
  },
  {
   "cell_type": "code",
   "execution_count": 25,
   "metadata": {},
   "outputs": [],
   "source": [
    "from SimpleHandEye.solvers import OpenCVSolver"
   ]
  },
  {
   "cell_type": "code",
   "execution_count": 26,
   "metadata": {},
   "outputs": [],
   "source": [
    "solver = OpenCVSolver()"
   ]
  },
  {
   "cell_type": "code",
   "execution_count": 27,
   "metadata": {},
   "outputs": [
    {
     "ename": "AssertionError",
     "evalue": "A and B must have at least 3 elements",
     "output_type": "error",
     "traceback": [
      "\u001b[0;31m---------------------------------------------------------------------------\u001b[0m",
      "\u001b[0;31mAssertionError\u001b[0m                            Traceback (most recent call last)",
      "Input \u001b[0;32mIn [27]\u001b[0m, in \u001b[0;36m<cell line: 4>\u001b[0;34m()\u001b[0m\n\u001b[1;32m      1\u001b[0m A \u001b[38;5;241m=\u001b[39m robot_poses \u001b[38;5;66;03m# Pose of the hand with respect to the base\u001b[39;00m\n\u001b[1;32m      2\u001b[0m B \u001b[38;5;241m=\u001b[39m [np\u001b[38;5;241m.\u001b[39mlinalg\u001b[38;5;241m.\u001b[39minv(T) \u001b[38;5;28;01mfor\u001b[39;00m T \u001b[38;5;129;01min\u001b[39;00m image_poses]\n\u001b[0;32m----> 4\u001b[0m X, Y \u001b[38;5;241m=\u001b[39m \u001b[43msolver\u001b[49m\u001b[38;5;241;43m.\u001b[39;49m\u001b[43msolve\u001b[49m\u001b[43m(\u001b[49m\u001b[43mA\u001b[49m\u001b[43m,\u001b[49m\u001b[43m \u001b[49m\u001b[43mB\u001b[49m\u001b[43m)\u001b[49m\n",
      "File \u001b[0;32m~/projects/exo/SimpleHandEye/SimpleHandEye/solvers.py:31\u001b[0m, in \u001b[0;36mOpenCVSolver.solveAXYB\u001b[0;34m(self, A, B)\u001b[0m\n\u001b[1;32m     25\u001b[0m \u001b[38;5;250m\u001b[39m\u001b[38;5;124;03m'''\u001b[39;00m\n\u001b[1;32m     26\u001b[0m \u001b[38;5;124;03mA: list of 4x4 transformation matrices\u001b[39;00m\n\u001b[1;32m     27\u001b[0m \u001b[38;5;124;03mB: list of 4x4 transformation matrices\u001b[39;00m\n\u001b[1;32m     28\u001b[0m \u001b[38;5;124;03mreturn: 4x4 solution transformation matrices X and Y\u001b[39;00m\n\u001b[1;32m     29\u001b[0m \u001b[38;5;124;03m'''\u001b[39;00m\n\u001b[1;32m     30\u001b[0m \u001b[38;5;28;01massert\u001b[39;00m \u001b[38;5;28mlen\u001b[39m(A) \u001b[38;5;241m==\u001b[39m \u001b[38;5;28mlen\u001b[39m(B), \u001b[38;5;124m\"\u001b[39m\u001b[38;5;124mA and B must have the same length\u001b[39m\u001b[38;5;124m\"\u001b[39m\n\u001b[0;32m---> 31\u001b[0m \u001b[38;5;28;01massert\u001b[39;00m \u001b[38;5;28mlen\u001b[39m(A) \u001b[38;5;241m>\u001b[39m\u001b[38;5;241m=\u001b[39m \u001b[38;5;241m3\u001b[39m, \u001b[38;5;124m\"\u001b[39m\u001b[38;5;124mA and B must have at least 3 elements\u001b[39m\u001b[38;5;124m\"\u001b[39m\n\u001b[1;32m     32\u001b[0m A_rot_vecs \u001b[38;5;241m=\u001b[39m [A[i][:\u001b[38;5;241m3\u001b[39m,:\u001b[38;5;241m3\u001b[39m] \u001b[38;5;28;01mfor\u001b[39;00m i \u001b[38;5;129;01min\u001b[39;00m \u001b[38;5;28mrange\u001b[39m(\u001b[38;5;28mlen\u001b[39m(A))]\n\u001b[1;32m     33\u001b[0m B_rot_vecs \u001b[38;5;241m=\u001b[39m [B[i][:\u001b[38;5;241m3\u001b[39m,:\u001b[38;5;241m3\u001b[39m] \u001b[38;5;28;01mfor\u001b[39;00m i \u001b[38;5;129;01min\u001b[39;00m \u001b[38;5;28mrange\u001b[39m(\u001b[38;5;28mlen\u001b[39m(B))]\n",
      "\u001b[0;31mAssertionError\u001b[0m: A and B must have at least 3 elements"
     ]
    }
   ],
   "source": [
    "A = robot_poses # Pose of the hand with respect to the base\n",
    "B = [np.linalg.inv(T) for T in image_poses]\n",
    "\n",
    "X, Y = solver.solve(A, B)"
   ]
  },
  {
   "cell_type": "code",
   "execution_count": null,
   "metadata": {},
   "outputs": [
    {
     "data": {
      "text/plain": [
       "(array([[-0.01147745, -0.99985254,  0.01277383,  0.08960414],\n",
       "        [ 0.99987984, -0.011609  , -0.01027274, -0.03007833],\n",
       "        [ 0.01041951,  0.01265439,  0.99986564,  0.07234493],\n",
       "        [ 0.        ,  0.        ,  0.        ,  1.        ]]),\n",
       " array([[-0.00815669, -0.99991112,  0.01054607,  0.51429557],\n",
       "        [-0.99996512,  0.00817519,  0.00171209,  0.01612239],\n",
       "        [-0.00179815, -0.01053174, -0.99994292,  0.00126261],\n",
       "        [ 0.        ,  0.        ,  0.        ,  1.        ]]))"
      ]
     },
     "metadata": {},
     "output_type": "display_data"
    }
   ],
   "source": [
    "X, Y"
   ]
  },
  {
   "cell_type": "code",
   "execution_count": null,
   "metadata": {},
   "outputs": [],
   "source": [
    "hand_T_cam = X"
   ]
  },
  {
   "cell_type": "code",
   "execution_count": null,
   "metadata": {},
   "outputs": [
    {
     "name": "stdout",
     "output_type": "stream",
     "text": [
      "0.004900929989746712\n",
      "0.004798079676462854\n",
      "0.008547323071457598\n",
      "0.008468821461449514\n",
      "0.0012283538460332601\n",
      "0.0012124624274551178\n",
      "0.0011141172106898711\n",
      "0.01208803206146044\n",
      "0.012132634475683596\n",
      "0.005611235666339801\n",
      "0.0050853487287546555\n",
      "0.0118936940573681\n",
      "0.001082146663574132\n",
      "0.001119671205077208\n",
      "0.001729989510170798\n",
      "0.001867635796229327\n",
      "0.0023647844419426543\n",
      "0.0023522394488654373\n",
      "0.014175208183969341\n",
      "0.014109646045081258\n",
      "0.010118952483144043\n",
      "0.009761801963849308\n",
      "0.004320886880907761\n",
      "0.004260022201976727\n",
      "0.017033282416446145\n",
      "0.0169113737122366\n",
      "0.016879889451858976\n",
      "0.003435284846413428\n",
      "0.0033898788219963788\n",
      "0.002827861447239284\n",
      "0.002932142305817547\n",
      "0.002100743826801098\n",
      "0.00182355654675731\n",
      "0.0020347145501043175\n",
      "0.0018823163327218602\n",
      "0.002744057012963093\n",
      "0.002766640954489436\n",
      "0.004036089767568295\n",
      "0.004169906477893781\n"
     ]
    }
   ],
   "source": [
    "for i in range(len(A)):\n",
    "    print(np.linalg.norm((A[i]@X@np.linalg.inv(Y@B[i]))[:3,-1]))"
   ]
  },
  {
   "cell_type": "code",
   "execution_count": null,
   "metadata": {},
   "outputs": [],
   "source": [
    "with open('flexiv_link7_T_camera.pkl', 'wb') as f:\n",
    "    pickle.dump(hand_T_cam, f)"
   ]
  },
  {
   "cell_type": "code",
   "execution_count": null,
   "metadata": {},
   "outputs": [],
   "source": []
  }
 ],
 "metadata": {
  "kernelspec": {
   "display_name": "base",
   "language": "python",
   "name": "python3"
  },
  "language_info": {
   "codemirror_mode": {
    "name": "ipython",
    "version": 3
   },
   "file_extension": ".py",
   "mimetype": "text/x-python",
   "name": "python",
   "nbconvert_exporter": "python",
   "pygments_lexer": "ipython3",
   "version": "3.8.10"
  }
 },
 "nbformat": 4,
 "nbformat_minor": 2
}
